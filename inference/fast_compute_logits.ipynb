{
 "cells": [
  {
   "cell_type": "code",
   "execution_count": 1,
   "metadata": {},
   "outputs": [
    {
     "name": "stderr",
     "output_type": "stream",
     "text": [
      "/data/home/chenpz/.conda/envs/sft/lib/python3.11/site-packages/tqdm/auto.py:21: TqdmWarning: IProgress not found. Please update jupyter and ipywidgets. See https://ipywidgets.readthedocs.io/en/stable/user_install.html\n",
      "  from .autonotebook import tqdm as notebook_tqdm\n",
      "Loading checkpoint shards: 100%|██████████| 4/4 [00:02<00:00,  1.63it/s]\n"
     ]
    }
   ],
   "source": [
    "from transformers import AutoTokenizer, AutoModelForCausalLM, BitsAndBytesConfig,default_data_collator\n",
    "import torch\n",
    "from peft import PeftModel\n",
    "from transformers import GenerationConfig\n",
    "from transformers.generation.utils import LogitsProcessorList\n",
    "from transformers.generation.logits_process import LogitsProcessor\n",
    "from datasets import load_dataset\n",
    "from torch.utils.data import DataLoader\n",
    "import os\n",
    "\n",
    "abs_path = \"/data/home/chenpz/git_clone_project\"\n",
    "model_path = f\"{abs_path}/All_base_model/models--meta-llama--Meta-Llama-3-8B-Instruct/snapshots/d3aa29f914761e8ea0298051fbaf8dd173e94db5\"\n",
    "data_path = f\"/data/home/chenpz/git_clone_project/nlpData/p3/anli_r3_json_file/anli_r3_train_FFP_all.json\"\n",
    "adpter_path = f\"/data/home/chenpz/git_clone_project/LLaMA-Factory/saves/llama3-8b-anli_r3_train_kcg_addHighPPL_first5000_data_gas=5_lr=1e-4/checkpoint-60\"\n",
    "output_file = '../output/anli_r3_loss_trained_By_kcg_addHighPPL_first5000_data_FFP_all.jsonl'\n",
    "\n",
    "output_dir = os.path.dirname(output_file)\n",
    "if not os.path.exists(output_dir):\n",
    "    os.makedirs(output_dir)\n",
    "\n",
    "\n",
    "device = 'cuda:1'\n",
    "prompt = \\\n",
    "'''<|begin_of_text|><|start_header_id|>user<|end_header_id|>\n",
    "\n",
    "{instruction} {input}<|eot_id|><|start_header_id|>assistant<|end_header_id|>\\n\\n{output}<|eot_id|>'''\n",
    "\n",
    "\n",
    "\n",
    "# nf4_config = BitsAndBytesConfig(\n",
    "#    load_in_4bit=True,\n",
    "#    bnb_4bit_quant_type=\"nf4\",\n",
    "#    bnb_4bit_use_double_quant=True,\n",
    "#    bnb_4bit_compute_dtype= None\n",
    "# )\n",
    "\n",
    "\n",
    "model = AutoModelForCausalLM.from_pretrained(model_path, \n",
    "                                             torch_dtype=torch.bfloat16,\n",
    "                                            #  quantization_config=nf4_config,\n",
    "                                             device_map = device)\n",
    "\n",
    "model = PeftModel.from_pretrained(\n",
    "                    model, adpter_path, is_trainable=False\n",
    "                    )\n",
    "\n",
    "\n"
   ]
  },
  {
   "cell_type": "code",
   "execution_count": 2,
   "metadata": {},
   "outputs": [
    {
     "name": "stdout",
     "output_type": "stream",
     "text": [
      "<|eot_id|><|eot_id|><|eot_id|><|eot_id|><|eot_id|><|eot_id|><|eot_id|><|eot_id|><|eot_id|><|eot_id|><|eot_id|><|eot_id|><|eot_id|><|eot_id|><|eot_id|><|eot_id|><|eot_id|><|eot_id|><|eot_id|><|eot_id|><|eot_id|><|eot_id|><|eot_id|><|eot_id|><|eot_id|><|eot_id|><|eot_id|><|eot_id|><|eot_id|><|eot_id|><|eot_id|><|eot_id|><|eot_id|><|eot_id|><|eot_id|><|eot_id|><|eot_id|><|eot_id|><|eot_id|><|eot_id|><|eot_id|><|eot_id|><|eot_id|><|eot_id|><|eot_id|><|eot_id|><|eot_id|><|eot_id|><|eot_id|><|eot_id|><|eot_id|><|eot_id|><|eot_id|><|eot_id|><|eot_id|><|eot_id|><|eot_id|><|eot_id|><|eot_id|><|eot_id|><|eot_id|><|eot_id|><|eot_id|><|eot_id|><|eot_id|><|eot_id|><|eot_id|><|eot_id|><|eot_id|><|eot_id|><|eot_id|><|eot_id|><|eot_id|><|eot_id|><|eot_id|><|eot_id|><|eot_id|><|eot_id|><|eot_id|><|eot_id|><|eot_id|><|eot_id|><|eot_id|><|eot_id|><|eot_id|><|eot_id|><|eot_id|><|eot_id|><|eot_id|><|eot_id|><|eot_id|><|eot_id|><|eot_id|><|eot_id|><|eot_id|><|eot_id|><|eot_id|><|eot_id|><|eot_id|><|eot_id|><|eot_id|><|eot_id|><|eot_id|><|eot_id|><|eot_id|><|eot_id|><|eot_id|><|eot_id|><|eot_id|><|eot_id|><|eot_id|><|eot_id|><|eot_id|><|eot_id|><|eot_id|><|eot_id|><|eot_id|><|eot_id|><|eot_id|><|eot_id|><|eot_id|><|eot_id|><|eot_id|><|eot_id|><|eot_id|><|eot_id|><|eot_id|><|eot_id|><|eot_id|><|eot_id|><|eot_id|><|eot_id|><|eot_id|><|eot_id|><|eot_id|><|eot_id|><|eot_id|><|eot_id|><|eot_id|><|eot_id|><|eot_id|><|eot_id|><|eot_id|><|eot_id|><|eot_id|><|eot_id|><|eot_id|><|eot_id|><|eot_id|><|eot_id|><|eot_id|><|eot_id|><|eot_id|><|eot_id|><|eot_id|><|eot_id|><|eot_id|><|eot_id|><|eot_id|><|eot_id|><|eot_id|><|eot_id|><|eot_id|><|eot_id|><|eot_id|><|eot_id|><|eot_id|><|eot_id|><|eot_id|><|eot_id|><|eot_id|><|eot_id|><|eot_id|><|eot_id|><|eot_id|><|eot_id|><|eot_id|><|eot_id|><|eot_id|><|eot_id|><|eot_id|><|eot_id|><|eot_id|><|eot_id|><|eot_id|><|eot_id|><|eot_id|><|eot_id|><|eot_id|><|eot_id|><|eot_id|><|eot_id|><|eot_id|><|eot_id|><|eot_id|><|eot_id|><|eot_id|><|eot_id|><|eot_id|><|eot_id|><|eot_id|><|eot_id|><|eot_id|><|eot_id|><|eot_id|><|eot_id|><|eot_id|><|eot_id|><|eot_id|><|eot_id|><|eot_id|><|eot_id|><|eot_id|><|eot_id|><|eot_id|><|eot_id|><|eot_id|><|eot_id|><|eot_id|><|eot_id|><|eot_id|><|eot_id|><|eot_id|><|eot_id|><|eot_id|><|eot_id|><|eot_id|><|eot_id|><|eot_id|><|eot_id|><|eot_id|><|eot_id|><|eot_id|><|eot_id|><|eot_id|><|eot_id|><|eot_id|><|eot_id|><|eot_id|><|eot_id|><|eot_id|><|eot_id|><|eot_id|><|eot_id|><|eot_id|><|eot_id|><|eot_id|><|eot_id|><|eot_id|><|eot_id|><|eot_id|><|eot_id|><|eot_id|><|eot_id|><|eot_id|><|eot_id|><|eot_id|><|eot_id|><|eot_id|><|eot_id|><|eot_id|><|eot_id|><|eot_id|><|eot_id|><|eot_id|><|eot_id|><|eot_id|><|eot_id|><|eot_id|><|eot_id|><|eot_id|><|eot_id|><|eot_id|><|eot_id|><|eot_id|><|eot_id|><|eot_id|><|eot_id|><|eot_id|><|eot_id|><|eot_id|><|eot_id|><|eot_id|><|eot_id|><|eot_id|><|eot_id|><|eot_id|><|eot_id|><|eot_id|><|eot_id|><|eot_id|><|eot_id|><|eot_id|><|eot_id|><|eot_id|><|eot_id|><|eot_id|><|eot_id|><|eot_id|><|eot_id|><|begin_of_text|><|start_header_id|>user<|end_header_id|>\n",
      "\n",
      "Given How to take care of chickens<br>Check your local laws and regulations on keeping chickens. Some municipalities will not allow you to keep chickens, or they might have some strict rules on keeping them. Before you start spending money on chickens and supplies, take the time to search your local laws and regulations online. Is it guaranteed true that \"roosters are easier to care for than chickens\"? Yes, no, or maybe? <|eot_id|><|start_header_id|>assistant<|end_header_id|>\n",
      "\n",
      " Maybe <|eot_id|>\n"
     ]
    }
   ],
   "source": [
    "tokenizer = AutoTokenizer.from_pretrained(model_path,use_fast=False,split_special_tokens=False,\n",
    "                                          padding_side=\"left\",\n",
    "                                          **{'trust_remote_code': True, 'cache_dir': None, 'revision': 'main', 'use_auth_token': None})\n",
    "tokenizer.pad_token = '<|eot_id|>'\n",
    "\n",
    "dataset = load_dataset(\"json\", data_files= data_path)\n",
    "\n",
    "# def preprocess_supervised_data(examples):\n",
    "#     model_inputs = {'input_ids': [],\n",
    "#                     'attention_mask':[],\n",
    "#                     # 'prompt':[]\n",
    "#                     }\n",
    "#     for  instruction,input,output in zip(examples['instruction'],examples['input'],examples['output']):\n",
    "#            text = prompt.format(instruction = instruction, input = input, output = output)\n",
    "#            res = tokenizer(text,padding='max_length',max_length=1300,truncation=True)\n",
    "#            model_inputs['input_ids'].append(res['input_ids'])\n",
    "#            model_inputs['attention_mask'].append(res['attention_mask'])\n",
    "#           #  model_inputs['prompt'].append(text)\n",
    "#     return model_inputs\n",
    "\n",
    "\n",
    "IGNORE_INDEX = -100\n",
    "\n",
    "question_prompt = '''<|begin_of_text|><|start_header_id|>user<|end_header_id|>\n",
    "\n",
    "{instruction}{input}<|eot_id|><|start_header_id|>assistant<|end_header_id|>\\n\\n'''\n",
    "\n",
    "answer_prompt = '''{output}<|eot_id|>'''\n",
    "\n",
    "def preprocess_supervised_data(examples) :\n",
    "        model_inputs = {\"input_ids\": [], \"attention_mask\": [], \"labels\": []}\n",
    "        max_length = 400\n",
    "        for  instruction,input,output in zip(examples['instruction'],examples['input'],examples['output']):\n",
    "\n",
    "            query = question_prompt.format(instruction = instruction, input = input)\n",
    "            response= answer_prompt.format(output = output)\n",
    "            \n",
    "            input_ids, labels = [], []\n",
    "            source_ids, target_ids = tokenizer([query,response])['input_ids']\n",
    "            input_ids += source_ids + target_ids\n",
    "            if len(input_ids) > max_length:\n",
    "                 print('warning')\n",
    "            input_ids = input_ids[:max_length]\n",
    "\n",
    "            labels += [IGNORE_INDEX] * len(source_ids) + target_ids\n",
    "            labels = labels[:max_length]\n",
    "            \n",
    "            model_inputs[\"input_ids\"].append(input_ids)\n",
    "            model_inputs[\"attention_mask\"].append([1] * len(input_ids))\n",
    "            model_inputs[\"labels\"].append(labels)\n",
    "\n",
    "        # Padding: Ensure that all input sequences have the same length\n",
    "        for i in range(len(model_inputs[\"input_ids\"])):\n",
    "            padding_length = max_length - len(model_inputs[\"input_ids\"][i])\n",
    "            \n",
    "            # Left padding input_ids and attention_mask\n",
    "            model_inputs[\"input_ids\"][i] = [tokenizer.pad_token_id] * padding_length + model_inputs[\"input_ids\"][i]\n",
    "            model_inputs[\"attention_mask\"][i] = [0] * padding_length + model_inputs[\"attention_mask\"][i]\n",
    "\n",
    "            # Left padding labels with IGNORE_INDEX\n",
    "            model_inputs[\"labels\"][i] = [IGNORE_INDEX] * padding_length + model_inputs[\"labels\"][i]\n",
    "        \n",
    "        return model_inputs\n",
    "\n",
    "\n",
    "\n",
    "dataset2 = dataset.map(preprocess_supervised_data,batched=True,remove_columns=['output', 'input', 'instruction'],num_proc=16)\n",
    "\n",
    "print(tokenizer.decode(dataset2['train'][0]['input_ids']))\n",
    "\n",
    "eval_dataloader = DataLoader(dataset2['train'],batch_size=2, pin_memory=True,collate_fn=default_data_collator,shuffle=False)\n"
   ]
  },
  {
   "cell_type": "code",
   "execution_count": 3,
   "metadata": {},
   "outputs": [
    {
     "name": "stderr",
     "output_type": "stream",
     "text": [
      "  0%|          | 0/50230 [00:00<?, ?it/s]"
     ]
    },
    {
     "name": "stdout",
     "output_type": "stream",
     "text": [
      "torch.Size([2, 400, 128256])\n"
     ]
    },
    {
     "name": "stderr",
     "output_type": "stream",
     "text": [
      "\n"
     ]
    }
   ],
   "source": [
    "from tqdm import tqdm\n",
    "model.eval()\n",
    "loss_list =[]\n",
    "loss_fn = torch.nn.CrossEntropyLoss(\n",
    "    reduction='none'\n",
    "    ) # 不要平均，保留每个 token 的 loss\n",
    "with open(output_file, 'w') as file:  # Open the file in write mode before the loop\n",
    "    for step, batch in enumerate(tqdm(eval_dataloader)):\n",
    "        batch = {k: v.to(device) for k, v in batch.items()}\n",
    "        with torch.no_grad():\n",
    "            outputs = model(input_ids=batch['input_ids'], attention_mask=batch['attention_mask'], labels=batch['labels'])\n",
    "            # outputs = model(input_ids=batch['input_ids'], attention_mask=batch['attention_mask'])\n",
    "            logits = outputs.logits\n",
    "\n",
    "            split_index = (batch['labels'] != -100).int().argmax(dim=-1)\n",
    "\n",
    "            print(logits.shape)\n",
    "            shift_logits = logits[..., :-1, :].contiguous()  # 移动 logits 以对齐预测\n",
    "            shift_labels = batch['labels'][:, 1:].contiguous()  # 移动 labels\n",
    "            break\n",
    "\n",
    "            \n",
    "             # 如果该行全为零，均值为0\n",
    "            # print(loss_per_sample)\n",
    "            # for i, loss in enumerate(means):\n",
    "            #     # print(loss)\n",
    "            #     # break\n",
    "            #     sample_id = step * eval_dataloader.batch_size + i  # 用于区分每个样本的索引\n",
    "            #     add_item = {'id':sample_id,'loss':loss}\n",
    "            #     file.write('%s\\n' % add_item)"
   ]
  },
  {
   "cell_type": "code",
   "execution_count": 40,
   "metadata": {},
   "outputs": [
    {
     "data": {
      "text/plain": [
       "' <|eot_id|><|start_header_id|>'"
      ]
     },
     "execution_count": 40,
     "metadata": {},
     "output_type": "execute_result"
    }
   ],
   "source": [
    "tokenizer.decode([220, 128009, 128006])"
   ]
  },
  {
   "cell_type": "code",
   "execution_count": 17,
   "metadata": {},
   "outputs": [
    {
     "data": {
      "text/plain": [
       "tensor([[  0.0000,   0.0000,   0.0000,  ...,   0.0000,   0.0000,   0.0000],\n",
       "        [  0.0000,   0.0000,   0.0000,  ...,   0.0000,   0.0000,   0.0000],\n",
       "        [  0.0000,   0.0000,   0.0000,  ...,   0.0000,   0.0000,   0.0000],\n",
       "        ...,\n",
       "        [  2.4688,   1.9688,   5.0000,  ...,  -1.4531,  -1.4531,  -1.4531],\n",
       "        [ -4.2188, -12.1250,  -6.6875,  ...,   5.6562,   5.6562,   5.6562],\n",
       "        [ -0.1230,   1.1875,   0.6719,  ...,   3.8281,   3.8281,   3.8281]],\n",
       "       device='cuda:1')"
      ]
     },
     "execution_count": 17,
     "metadata": {},
     "output_type": "execute_result"
    }
   ],
   "source": [
    "mask = (batch['labels'] != -100).int()\n",
    "mask = mask.unsqueeze(-1) \n",
    "result = logits * mask\n"
   ]
  },
  {
   "cell_type": "code",
   "execution_count": 39,
   "metadata": {},
   "outputs": [
    {
     "data": {
      "text/plain": [
       "' Yes <|eot_id|>'"
      ]
     },
     "execution_count": 39,
     "metadata": {},
     "output_type": "execute_result"
    }
   ],
   "source": [
    "tokenizer.decode([7566, 220, 128009])"
   ]
  },
  {
   "cell_type": "code",
   "execution_count": 10,
   "metadata": {},
   "outputs": [
    {
     "name": "stdout",
     "output_type": "stream",
     "text": [
      "297: mean:-0.8730422854423523 std: 1.8922524452209473 max:28.625\n",
      "298: mean:0.26609763503074646 std: 1.9123814105987549 max:25.25\n",
      "299: mean:-0.7236504554748535 std: 1.8615648746490479 max:20.375\n"
     ]
    }
   ],
   "source": [
    "import matplotlib.pyplot as plt\n",
    "import numpy as np\n",
    "from scipy import stats \n",
    "from scipy.stats import norm\n",
    "\n",
    "mean_List =[]\n",
    "std_list = []\n",
    "\n",
    "for i in range(297, 300):\n",
    "    # plt.figure()\n",
    "    data = logits[0,i,:].view(1* 128256).cpu().numpy()\n",
    "    # data = result = [x for x in data if -8.75 < x < +8.75]\n",
    "    print(f'{i}: mean:{np.mean(data)} std: {np.std(data)} max:{np.max(data)}')\n",
    "    # plt.hist(data, bins=5000, density=True, alpha=0.5, label='Histogram')\n",
    "\n",
    "    # 给定的均值和方差\n",
    "    mean = np.mean(data)   # 均值\n",
    "    std_dev = np.std(data) # 标准差\n",
    "\n",
    "    mean_List.append(mean)\n",
    "    std_list.append(std_dev)\n",
    "    # # 生成一个范围用于绘制正态分布密度图\n",
    "    # x = np.linspace(mean - 4*std_dev, mean + 4*std_dev, 1000)\n",
    "\n",
    "    # # 计算正态分布的概率密度函数 (PDF)\n",
    "    # pdf = norm.pdf(x, mean, std_dev)\n",
    "\n",
    "    # # 绘制正态分布的密度图\n",
    "    # plt.plot(x, pdf, label=f'Normal Distribution\\nMean = {mean}, Std = {std_dev}')\n",
    "    # # plt.title('Normal Distribution Density Plot')\n",
    "    # # plt.xlabel('X')\n",
    "    # plt.ylabel('Density')\n",
    "    # # plt.grid(True)\n",
    "    # # plt.legend()\n",
    "    # plt.show()\n"
   ]
  },
  {
   "cell_type": "code",
   "execution_count": 17,
   "metadata": {},
   "outputs": [
    {
     "data": {
      "text/plain": [
       "tensor([ 10926,    220, 128009], device='cuda:1')"
      ]
     },
     "execution_count": 17,
     "metadata": {},
     "output_type": "execute_result"
    }
   ],
   "source": [
    "batch['labels'][0][297:]"
   ]
  },
  {
   "cell_type": "code",
   "execution_count": 3,
   "metadata": {},
   "outputs": [
    {
     "data": {
      "image/png": "[encoded data removed]",
      "text/plain": [
       "<Figure size 1200x600 with 2 Axes>"
      ]
     },
     "metadata": {},
     "output_type": "display_data"
    }
   ],
   "source": [
    "import numpy as np\n",
    "import matplotlib.pyplot as plt\n",
    "\n",
    "# 生成正态分布数据\n",
    "mean = 1\n",
    "std = 1.7\n",
    "size = 100000\n",
    "normal_data = np.random.normal(mean, std, size)\n",
    "\n",
    "# Softmax 函数\n",
    "def softmax(x):\n",
    "    exp_x = np.exp(x - np.max(x))  # 防止溢出\n",
    "    return exp_x / np.sum(exp_x)\n",
    "\n",
    "# 对正态分布数据应用 Softmax\n",
    "softmax_data = np.array([softmax(normal_data[i:i+10]) for i in range(0, len(normal_data), 10)])\n",
    "\n",
    "# 绘制正态分布数据与Softmax结果的图形\n",
    "plt.figure(figsize=(12, 6))\n",
    "\n",
    "# 原始正态分布\n",
    "plt.subplot(1, 2, 1)\n",
    "plt.hist(normal_data, bins=5000, density=True, alpha=0.6, color='g', label='Normal Distribution')\n",
    "plt.title('Normal Distribution')\n",
    "plt.xlabel('Value')\n",
    "plt.ylabel('Density')\n",
    "\n",
    "# Softmax后的分布\n",
    "plt.subplot(1, 2, 2)\n",
    "plt.hist(softmax_data.flatten(), bins=5000, density=True, alpha=0.6, color='b', label='Softmax Distribution')\n",
    "plt.title('Softmax Transformation')\n",
    "plt.xlabel('Value')\n",
    "plt.ylabel('Density')\n",
    "\n",
    "plt.tight_layout()\n",
    "plt.show()\n"
   ]
  }
 ],
 "metadata": {
  "kernelspec": {
   "display_name": "sft",
   "language": "python",
   "name": "python3"
  },
  "language_info": {
   "codemirror_mode": {
    "name": "ipython",
    "version": 3
   },
   "file_extension": ".py",
   "mimetype": "text/x-python",
   "name": "python",
   "nbconvert_exporter": "python",
   "pygments_lexer": "ipython3",
   "version": "3.11.10"
  }
 },
 "nbformat": 4,
 "nbformat_minor": 2
}
