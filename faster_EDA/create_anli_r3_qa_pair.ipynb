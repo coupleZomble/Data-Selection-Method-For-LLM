{
 "cells": [
  {
   "cell_type": "code",
   "execution_count": 1,
   "metadata": {},
   "outputs": [
    {
     "name": "stderr",
     "output_type": "stream",
     "text": [
      "/data/home/chenpz/.conda/envs/llama_factory/lib/python3.10/site-packages/tqdm/auto.py:21: TqdmWarning: IProgress not found. Please update jupyter and ipywidgets. See https://ipywidgets.readthedocs.io/en/stable/user_install.html\n",
      "  from .autonotebook import tqdm as notebook_tqdm\n"
     ]
    }
   ],
   "source": [
    "from datasets import load_dataset\n",
    "\n",
    "dataset = load_dataset(\"/data/home/chenpz/git_clone_project/nlpData/sst2\")\n",
    "train_data = dataset['train']\n",
    "\n",
    "res = []\n",
    "for i,j in zip(dataset['train']['targets_pretokenized'],dataset['train']['inputs_pretokenized']):\n",
    "    add_item = {'question':j,'answer':i}\n",
    "    res.append(add_item)\n",
    "import json\n",
    "with open('/data/home/chenpz/git_clone_project/jupyter_notebook_test/output/anli_can_we_infer_r3_train.json','w') as f:\n",
    "    json.dump(res,f)"
   ]
  },
  {
   "cell_type": "code",
   "execution_count": 2,
   "metadata": {},
   "outputs": [
    {
     "name": "stderr",
     "output_type": "stream",
     "text": [
      "Generating train split: 100459 examples [00:01, 90935.37 examples/s]\n"
     ]
    }
   ],
   "source": [
    "data = load_dataset(\"json\", data_files='/data/home/chenpz/git_clone_project/jupyter_notebook_test/output/anli_can_we_infer_r3_train.json')"
   ]
  },
  {
   "cell_type": "code",
   "execution_count": 1,
   "metadata": {},
   "outputs": [
    {
     "name": "stderr",
     "output_type": "stream",
     "text": [
      "/data/home/chenpz/.conda/envs/llama_factory/lib/python3.10/site-packages/tqdm/auto.py:21: TqdmWarning: IProgress not found. Please update jupyter and ipywidgets. See https://ipywidgets.readthedocs.io/en/stable/user_install.html\n",
      "  from .autonotebook import tqdm as notebook_tqdm\n",
      "Generating train split: 67349 examples [00:00, 1453867.94 examples/s]\n",
      "Generating validation split: 872 examples [00:00, 729007.99 examples/s]\n",
      "Generating test split: 1821 examples [00:00, 1104051.40 examples/s]\n"
     ]
    }
   ],
   "source": [
    "from datasets import load_dataset\n",
    "dataset = load_dataset(\"/data/home/chenpz/git_clone_project/nlpData/sst2\")"
   ]
  },
  {
   "cell_type": "code",
   "execution_count": 18,
   "metadata": {},
   "outputs": [],
   "source": [
    "train_data = dataset['train']\n",
    "\n",
    "res = []\n",
    "for i,j in zip(dataset['train']['label'],dataset['train']['sentence']):\n",
    "    dict1 = {0:'negative',1:'postive'}\n",
    "    str1 = f'''{j}'''\n",
    "    add_item = {'question':str1\n",
    "                ,'answer': dict1[i]}\n",
    "    res.append(add_item)\n",
    "import json\n",
    "with open('/data/home/chenpz/git_clone_project/jupyter_notebook_test/output/sst2_train_o.json','w') as f:\n",
    "    json.dump(res,f)"
   ]
  }
 ],
 "metadata": {
  "kernelspec": {
   "display_name": "llama_factory",
   "language": "python",
   "name": "python3"
  },
  "language_info": {
   "codemirror_mode": {
    "name": "ipython",
    "version": 3
   },
   "file_extension": ".py",
   "mimetype": "text/x-python",
   "name": "python",
   "nbconvert_exporter": "python",
   "pygments_lexer": "ipython3",
   "version": "3.10.14"
  }
 },
 "nbformat": 4,
 "nbformat_minor": 2
}
